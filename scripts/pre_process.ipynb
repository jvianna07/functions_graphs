{
 "cells": [
  {
   "cell_type": "code",
   "execution_count": 2,
   "metadata": {},
   "outputs": [],
   "source": [
    "import numpy as np\n",
    "import os\n",
    "import cv2\n",
    "from random import randint\n",
    "import shutil"
   ]
  },
  {
   "cell_type": "markdown",
   "metadata": {},
   "source": [
    "### Resize images"
   ]
  },
  {
   "cell_type": "code",
   "execution_count": null,
   "metadata": {},
   "outputs": [],
   "source": [
    "'''\n",
    "Resize to a specific size.\n",
    "path_source - source folder path\n",
    "path_destination - destination folder path\n",
    "size= image size, default is 128x128\n",
    "ext = file extension, default is *.png\n",
    "'''\n",
    "def imageResizer(path_source: str, path_destination:str, size=(128,128), ext='.png'):\n",
    "    \n",
    "    for folder in os.listdir(path_source):\n",
    "        currentFolder = os.path.join(path_source, folder)\n",
    "        if os.path.isdir(currentFolder):\n",
    "\n",
    "            # Create new folder in processed images\n",
    "            new_folder  =  os.path.join(path_destination,folder)\n",
    "            os.makedirs(new_folder, exist_ok = True)\n",
    "           \n",
    "            for item in os.listdir(currentFolder):\n",
    "                f_name, f_ext = os.path.splitext(item)\n",
    "                if f_ext in ['.png','.bmp']:\n",
    "    \n",
    "                    # Processar a imagem\n",
    "                    image_path = os.path.join(currentFolder,item)\n",
    "                    image = cv2.imread(image_path)\n",
    "                    image = image.copy()\n",
    "                    image = cv2.cvtColor(image,cv2.COLOR_BGR2RGB)\n",
    "                    resized_img = cv2.resize(image,size, interpolation = cv2.INTER_AREA)\n",
    "        \n",
    "                    # Salvar a imagem\n",
    "                    target_path = os.path.join(new_folder, f_name+ext)\n",
    "                    cv2.imwrite(target_path, resized_img)"
   ]
  },
  {
   "cell_type": "code",
   "execution_count": null,
   "metadata": {},
   "outputs": [],
   "source": [
    "origin = '../datasets/LID_gf_imagesV3Extended(Original)'\n",
    "destination = '../datasets/LID_gf_imagesV3Extended(resized)'\n",
    "imageResizer(origin, destination)"
   ]
  },
  {
   "cell_type": "markdown",
   "metadata": {},
   "source": [
    "### Divide dataset in train, validation and test "
   ]
  },
  {
   "cell_type": "code",
   "execution_count": null,
   "metadata": {},
   "outputs": [],
   "source": [
    "'''\n",
    "Sample some items from dataset\n",
    "path_source - source folder path\n",
    "path_destination - destination folder path\n",
    "sample_size = Number of items to be randomly selected in each folder, default is 145\n",
    "'''\n",
    "def datasetSpliter(path_source:str, path_destination:str, sample_size:str=145):\n",
    "    # loop trough folders \n",
    "    for folder in os.listdir(path_source):\n",
    "        currentFolder = os.path.join(path_source, folder)\n",
    "        if os.path.isdir(currentFolder):\n",
    "\n",
    "            # Create new folder in processed images\n",
    "            destination_folder  =  os.path.join(path_destination,folder)\n",
    "            os.makedirs(destination_folder, exist_ok = True)\n",
    "\n",
    "            # Select items randomly and copy to destination\n",
    "            count = 0\n",
    "            while count < sample_size:\n",
    "\n",
    "                # List all current folder items \n",
    "                current_folder_imgs = os.listdir(currentFolder)\n",
    "\n",
    "                # Generate a random index\n",
    "                index = randint(0,len(current_folder_imgs)-1)\n",
    "\n",
    "                try:\n",
    "                    # Select an image\n",
    "                    selected_img = current_folder_imgs[index]\n",
    "\n",
    "                    # Create source and destination path \n",
    "                    src_image_path = os.path.join(currentFolder, selected_img)\n",
    "                    dst_image_path = os.path.join(destination_folder, selected_img)\n",
    "\n",
    "                    # Move file from source to destination\n",
    "                    shutil.move(src_image_path, dst_image_path) \n",
    "                    \n",
    "                    # Increase counter\n",
    "                    count += 1\n",
    "\n",
    "                except IndexError:\n",
    "                    pass  \n"
   ]
  },
  {
   "cell_type": "code",
   "execution_count": null,
   "metadata": {},
   "outputs": [],
   "source": [
    "# Create validation data \n",
    "origin = '../datasets/LID_gf_imagesV3Extended(resized)'\n",
    "destination = '../datasets/LID_gf_imagesV3Extended(processed)/validation_data'\n",
    "datasetSpliter(origin, destination)"
   ]
  },
  {
   "cell_type": "code",
   "execution_count": null,
   "metadata": {},
   "outputs": [],
   "source": [
    "# Create test data\n",
    "origin = '../datasets/LID_gf_imagesV3Extended(resized)'\n",
    "destination = '../datasets/LID_gf_imagesV3Extended(processed)/test_data'\n",
    "datasetSpliter(origin, destination)"
   ]
  },
  {
   "cell_type": "code",
   "execution_count": null,
   "metadata": {},
   "outputs": [],
   "source": [
    "# Create train data. Move the remaining files\n",
    "origin = '../datasets/LID_gf_imagesV3Extended(resized)'\n",
    "destination = '../datasets/LID_gf_imagesV3Extended(processed)/train_data'\n",
    "\n",
    "for folder in os.listdir(origin):\n",
    "    src_folder = os.path.join(origin, folder)\n",
    "    dst_folder = os.path.join(destination, folder)\n",
    "\n",
    "    # Move file from source to destination\n",
    "    shutil.move(src_folder, dst_folder) "
   ]
  },
  {
   "cell_type": "code",
   "execution_count": null,
   "metadata": {},
   "outputs": [],
   "source": [
    "path_src = '../datasets/LID_gf_imagesV3Extended(Original)'\n",
    "path_dest = '../datasets/LID_gf_imagesV3Extended(processed)'\n",
    "dataset_folder = os.listdir(path_src)\n",
    "dataset_folder"
   ]
  },
  {
   "cell_type": "markdown",
   "metadata": {},
   "source": [
    "### Format to One-hot encoding\n"
   ]
  },
  {
   "cell_type": "code",
   "execution_count": 3,
   "metadata": {},
   "outputs": [],
   "source": [
    "'''\n",
    "Transform data into One-hot Encoding\n",
    "path_source - source folder path\n",
    "img_classes - dictionary with classes and corresponding numbers\n",
    "size - size of the images. All images must be in the same size and extension. Default is (128,128,3)\n",
    "'''\n",
    "def oneHotEncoding(path_source:str, img_classes:dict, size:tuple=(128,128,3))->tuple[np.ndarray, np.ndarray]:\n",
    "\n",
    "    # Get image size and number of classes\n",
    "    image_size = size[0]*size[1]*size[2]\n",
    "    nr_of_classes = len(img_classes)\n",
    "\n",
    "    # Create empty arrays for X and Y \n",
    "    X_data = np.empty((0, image_size), dtype=np.uint8)\n",
    "    Y_data = np.empty((0, nr_of_classes), dtype=np.uint8)\n",
    "    \n",
    "    for folder in os.listdir(path_source):\n",
    "        currentFolder = os.path.join(path_source, folder)\n",
    "        if (os.path.isdir(currentFolder)) and (not '.' in folder):\n",
    "            \n",
    "            for item in os.listdir(currentFolder):\n",
    "                f_name, f_ext = os.path.splitext(item)\n",
    "                if f_ext == '.png':\n",
    "    \n",
    "                    # Open image in RGB mode\n",
    "                    image_path = os.path.join(currentFolder,item)\n",
    "                    image = cv2.imread(image_path)\n",
    "                    image = image.copy()\n",
    "                    image = cv2.cvtColor(image,cv2.COLOR_BGR2RGB)\n",
    "                  \n",
    "                    # SET UP THE DATASET\n",
    "                    # Vectorize the image and convert it into a list\n",
    "                    img_arr = np.ndarray.flatten(image)\n",
    "\n",
    "                    # Get the string of the image expression\n",
    "                    if '_NA_'in f_name:\n",
    "                        class_name, expression = f_name.split(\"_NA_\")\n",
    "                    elif '_WG_' in f_name:\n",
    "                        class_name, expression = f_name.split(\"_WG_\")\n",
    "                    else:\n",
    "                        class_name, expression = f_name.split(\"_\")\n",
    "                   \n",
    "                    # Create a zero vector and set the value 1 for the corresponding class\n",
    "                    label = np.zeros((1,nr_of_classes), dtype=np.uint8)\n",
    "                    label[0][img_classes[class_name]]=1\n",
    "                    \n",
    "                    # Add items to the dataset\n",
    "                    X_data = np.concatenate((X_data, img_arr.reshape(1,-1)), axis=0)\n",
    "                    Y_data = np.concatenate((Y_data, label), axis=0)\n",
    "   \n",
    "    return X_data, Y_data"
   ]
  },
  {
   "cell_type": "markdown",
   "metadata": {},
   "source": [
    "### Shuffle Data"
   ]
  },
  {
   "cell_type": "code",
   "execution_count": 4,
   "metadata": {},
   "outputs": [],
   "source": [
    "def shuffleData(x_data:np.ndarray, y_data:np.ndarray) -> np.array:\n",
    "    assert x_data.shape[0] == y_data.shape[0]\n",
    "    data = np.concatenate((x_data, y_data), axis=1)\n",
    "\n",
    "    # Shuffle data\n",
    "    np.random.shuffle(data)\n",
    "\n",
    "    # Split shuffled data \n",
    "    x_data = data[:, :x_data.shape[1]]\n",
    "    y_data = data[:, -(y_data.shape[1]):]\n",
    "\n",
    "    return x_data, y_data"
   ]
  },
  {
   "cell_type": "code",
   "execution_count": 5,
   "metadata": {},
   "outputs": [],
   "source": [
    "# Process train_data\n",
    "\n",
    "main_folder = '../datasets/LID_gf_imagesV3Extended(processed)/train_data'\n",
    "img_classes = {'line':0, 'quad':1, 'cub':2, 'expo':3, 'log':4,\n",
    "                    'root':5, 'sin':6, 'cos':7, 'tan':8, 'cot':9}\n",
    "x,y = oneHotEncoding (main_folder, img_classes)"
   ]
  },
  {
   "cell_type": "code",
   "execution_count": 6,
   "metadata": {},
   "outputs": [],
   "source": [
    "x_train_data, y_train_data = shuffleData(x,y)"
   ]
  },
  {
   "cell_type": "code",
   "execution_count": 7,
   "metadata": {},
   "outputs": [],
   "source": [
    "# Process validation_data\n",
    "\n",
    "main_folder = '../datasets/LID_gf_imagesV3Extended(processed)/validation_data'\n",
    "img_classes = {'line':0, 'quad':1, 'cub':2, 'expo':3, 'log':4,\n",
    "                    'root':5, 'sin':6, 'cos':7, 'tan':8, 'cot':9}\n",
    "x,y = oneHotEncoding (main_folder, img_classes)"
   ]
  },
  {
   "cell_type": "code",
   "execution_count": 8,
   "metadata": {},
   "outputs": [],
   "source": [
    "x_validation_data, y_validation_data = shuffleData(x,y)"
   ]
  },
  {
   "cell_type": "code",
   "execution_count": 9,
   "metadata": {},
   "outputs": [],
   "source": [
    "# Process test_data\n",
    "\n",
    "main_folder = '../datasets/LID_gf_imagesV3Extended(processed)/test_data'\n",
    "img_classes = {'line':0, 'quad':1, 'cub':2, 'expo':3, 'log':4,\n",
    "                    'root':5, 'sin':6, 'cos':7, 'tan':8, 'cot':9}\n",
    "x,y = oneHotEncoding (main_folder, img_classes)"
   ]
  },
  {
   "cell_type": "code",
   "execution_count": 10,
   "metadata": {},
   "outputs": [],
   "source": [
    "x_test_data, y_test_data = shuffleData(x,y)"
   ]
  },
  {
   "cell_type": "markdown",
   "metadata": {},
   "source": [
    "### Save to pickle format "
   ]
  },
  {
   "cell_type": "code",
   "execution_count": 17,
   "metadata": {},
   "outputs": [],
   "source": [
    "import pickle\n",
    "\n",
    "\n",
    "dataset = ((x_train_data, y_train_data), (x_validation_data, y_validation_data), (x_test_data, y_test_data))\n",
    "with open ('../datasets/LID_fg_dataset.pkl', 'wb') as f:\n",
    "  pickle.dump(dataset,f)"
   ]
  },
  {
   "cell_type": "markdown",
   "metadata": {},
   "source": [
    "### Read files"
   ]
  },
  {
   "cell_type": "code",
   "execution_count": 12,
   "metadata": {},
   "outputs": [],
   "source": [
    "import pickle\n",
    "\n",
    "with open ('../datasets/LID_fg_dataset.pkl', 'rb') as arq:\n",
    "    data = pickle.load(arq)"
   ]
  },
  {
   "cell_type": "markdown",
   "metadata": {},
   "source": [
    "##### Os dados estão divididos em treino, validação e teste. Tem que extrair os dados:\n",
    "```Python\n",
    "(x_treino, y_treino), (x_validacao, y_validacao), (x_teste, y_teste) = data\n",
    "```\n",
    "\n",
    "* Para visualizar, tem que transformar para o tipo uint8\n",
    "```Python\n",
    "x_treino=x_treino.astype('uint8')\n",
    "x_validacao = x_validacao.astype('uint8')\n",
    "x_teste = x_teste.astype('uint8')\n",
    "```\n",
    "\n",
    "* Para treinar em uma rede neural tem que transformar para o tipo float e normalizar\n",
    "```Python\n",
    "x_treino=x_treino.astype('floa32')/255\n",
    "x_validacao = x_validacao.astype('floa32')/255\n",
    "x_teste = x_teste.astype('floa32')/255\n",
    "```"
   ]
  },
  {
   "cell_type": "code",
   "execution_count": 15,
   "metadata": {},
   "outputs": [],
   "source": [
    "(x_treino, y_treino), (x_validacao, y_validacao), (x_teste, y_teste) = data\n",
    "x_treino=x_treino.astype('uint8')\n",
    "x_validacao = x_validacao.astype('uint8')\n",
    "x_teste = x_teste.astype('uint8')"
   ]
  },
  {
   "cell_type": "code",
   "execution_count": 16,
   "metadata": {},
   "outputs": [
    {
     "data": {
      "image/png": "[encoded data removed]",
      "text/plain": [
       "<Figure size 640x480 with 1 Axes>"
      ]
     },
     "metadata": {},
     "output_type": "display_data"
    }
   ],
   "source": [
    "# Abrir uma imagem\n",
    "import matplotlib.pyplot as plt\n",
    "plt.imshow(x_treino[1].reshape(128,128,3))\n",
    "plt.show()"
   ]
  }
 ],
 "metadata": {
  "kernelspec": {
   "display_name": "Python 3",
   "language": "python",
   "name": "python3"
  },
  "language_info": {
   "codemirror_mode": {
    "name": "ipython",
    "version": 3
   },
   "file_extension": ".py",
   "mimetype": "text/x-python",
   "name": "python",
   "nbconvert_exporter": "python",
   "pygments_lexer": "ipython3",
   "version": "3.9.6"
  }
 },
 "nbformat": 4,
 "nbformat_minor": 2
}
