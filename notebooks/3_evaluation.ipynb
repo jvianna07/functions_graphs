{
 "cells": [
  {
   "cell_type": "code",
   "execution_count": null,
   "id": "3db531c6",
   "metadata": {},
   "outputs": [],
   "source": [
    "from util import setrootdir\n",
    "\n",
    "setrootdir(\"functions_graphs\")"
   ]
  },
  {
   "cell_type": "markdown",
   "id": "ac78bb5e",
   "metadata": {},
   "source": [
    "# 4. Evaluation"
   ]
  },
  {
   "cell_type": "code",
   "execution_count": null,
   "id": "b6ab41bc-fd58-4d82-a9bf-705c9acdd81f",
   "metadata": {},
   "outputs": [],
   "source": [
    "from fgraphs import evaluation\n",
    "from fgraphs.classification import load_preprocess"
   ]
  },
  {
   "cell_type": "markdown",
   "id": "fc7e9065",
   "metadata": {},
   "source": [
    "## 4.1. Dataset loading"
   ]
  },
  {
   "cell_type": "code",
   "execution_count": null,
   "id": "a6819054",
   "metadata": {},
   "outputs": [],
   "source": [
    "sets = load_preprocess(preprocess_file=\"../datasets/LID_fg_dataset.pkl\")"
   ]
  },
  {
   "cell_type": "code",
   "execution_count": null,
   "id": "d39d22ad",
   "metadata": {},
   "outputs": [],
   "source": [
    "labels = {\n",
    "    0: 'linear',\n",
    "    1: 'quadrática',\n",
    "    2: 'cúbica',\n",
    "    3: 'exponencial',\n",
    "    4: 'logarítmica',\n",
    "    5: 'raíz quadrada',\n",
    "    6: 'seno',\n",
    "    7: 'cosseno',\n",
    "    8: 'tangente',\n",
    "    9: 'cotangente'\n",
    "}"
   ]
  },
  {
   "cell_type": "markdown",
   "id": "67915519",
   "metadata": {},
   "source": [
    "## 4.2. Predictions"
   ]
  },
  {
   "cell_type": "code",
   "execution_count": null,
   "id": "77267696-51f8-4f89-b58d-bc92e07f7a30",
   "metadata": {},
   "outputs": [],
   "source": [
    "y_pred = evaluation.predict(\n",
    "    model_path=\"../models/cnn_model.keras\",\n",
    "    x=sets[\"x\"][\"test\"]\n",
    ")\n",
    "y_pred"
   ]
  },
  {
   "cell_type": "markdown",
   "id": "924fe103",
   "metadata": {},
   "source": [
    "## 4.3. Compare predictions"
   ]
  },
  {
   "cell_type": "code",
   "execution_count": null,
   "id": "0c6f746a",
   "metadata": {},
   "outputs": [],
   "source": [
    "evaluation.compare_predictions(\n",
    "    x=sets[\"x\"][\"test\"],\n",
    "    y=sets[\"y\"][\"test\"],\n",
    "    y_pred=y_pred,\n",
    "    labels=labels,\n",
    "    n=None\n",
    ")"
   ]
  },
  {
   "cell_type": "markdown",
   "id": "d2341276",
   "metadata": {},
   "source": [
    "## 4.4. Confusion matrix"
   ]
  },
  {
   "cell_type": "code",
   "execution_count": null,
   "id": "68910151-30b0-4126-8493-afdadfaea618",
   "metadata": {},
   "outputs": [],
   "source": [
    "cm = evaluation.compute_confusion_matrix(\n",
    "    y_true=sets[\"y\"][\"test\"],\n",
    "    y_pred=y_pred\n",
    ")\n",
    "\n",
    "cm"
   ]
  },
  {
   "cell_type": "code",
   "execution_count": null,
   "id": "a819f7a8",
   "metadata": {},
   "outputs": [],
   "source": [
    "evaluation.display_cm(\n",
    "    cm=cm,\n",
    "    labels=list(labels.values())\n",
    ")"
   ]
  },
  {
   "cell_type": "code",
   "execution_count": null,
   "id": "9a74ed5d",
   "metadata": {},
   "outputs": [],
   "source": [
    "cm = evaluation.frame_cm(cm)\n",
    "cm"
   ]
  },
  {
   "cell_type": "markdown",
   "id": "b639e453",
   "metadata": {},
   "source": [
    "## Report"
   ]
  },
  {
   "cell_type": "code",
   "execution_count": null,
   "id": "52276eb6",
   "metadata": {},
   "outputs": [],
   "source": [
    "binary_cms = evaluation.process_binary_confusion_matrices(cm, list(labels.keys()))\n",
    "binary_cms[1]"
   ]
  },
  {
   "cell_type": "code",
   "execution_count": null,
   "id": "15f9432b",
   "metadata": {},
   "outputs": [],
   "source": [
    "df_report = evaluation.report(binary_cms, list(labels.keys()))\n",
    "df_report.to_csv(\"report.csv\", index=False)\n",
    "df_report"
   ]
  },
  {
   "cell_type": "markdown",
   "id": "39a43148",
   "metadata": {},
   "source": [
    "## 4.5. Analyze errors"
   ]
  },
  {
   "cell_type": "code",
   "execution_count": null,
   "id": "906cc1c3",
   "metadata": {},
   "outputs": [],
   "source": [
    "df_errors = evaluation.frame_errors(\n",
    "    y_true=sets[\"y\"][\"test\"],\n",
    "    y_pred=y_pred,\n",
    "    labels=labels\n",
    ")\n",
    "\n",
    "df_errors"
   ]
  },
  {
   "cell_type": "markdown",
   "id": "69c6ed98",
   "metadata": {},
   "source": [
    "## 4.6. Predict new images"
   ]
  },
  {
   "cell_type": "code",
   "execution_count": null,
   "id": "431f5667",
   "metadata": {},
   "outputs": [],
   "source": [
    "evaluation.predict_image(\n",
    "    image_path=\"../examples/quadratic.png\",\n",
    "    model_path=\"../models/cnn_model.keras\",\n",
    "    labels=labels\n",
    ")"
   ]
  },
  {
   "cell_type": "markdown",
   "id": "63c086eb",
   "metadata": {},
   "source": [
    "## 4.7. Chord diagram"
   ]
  },
  {
   "cell_type": "code",
   "execution_count": null,
   "id": "02bb28f7",
   "metadata": {},
   "outputs": [],
   "source": [
    "evaluation.show_chord(cm, list(labels.values()))"
   ]
  }
 ],
 "metadata": {
  "kernelspec": {
   "display_name": "Python 3 (ipykernel)",
   "language": "python",
   "name": "python3"
  },
  "language_info": {
   "codemirror_mode": {
    "name": "ipython",
    "version": 3
   },
   "file_extension": ".py",
   "mimetype": "text/x-python",
   "name": "python",
   "nbconvert_exporter": "python",
   "pygments_lexer": "ipython3",
   "version": "3.9.6"
  }
 },
 "nbformat": 4,
 "nbformat_minor": 5
}
