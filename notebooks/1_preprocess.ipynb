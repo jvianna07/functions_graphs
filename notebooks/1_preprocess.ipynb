{
 "cells": [
  {
   "cell_type": "markdown",
   "metadata": {},
   "source": [
    "# 1. Preprocess"
   ]
  },
  {
   "cell_type": "code",
   "execution_count": 2,
   "metadata": {},
   "outputs": [],
   "source": [
    "import os\n",
    "import shutil\n",
    "\n",
    "from fgraphs import preprocess"
   ]
  },
  {
   "cell_type": "markdown",
   "metadata": {},
   "source": [
    "## 1.1. Resize images"
   ]
  },
  {
   "cell_type": "code",
   "execution_count": null,
   "metadata": {},
   "outputs": [],
   "source": [
    "origin = \"../datasets/LID_gf_imagesV3Extended(Original)\"\n",
    "destination = \"../datasets/LID_gf_imagesV3Extended(resized)\"\n",
    "\n",
    "preprocess.imageResizer(\n",
    "    path_source=origin,\n",
    "    path_destination=destination\n",
    ")"
   ]
  },
  {
   "cell_type": "markdown",
   "metadata": {},
   "source": [
    "## 1.2. Divide dataset in train, validation and test "
   ]
  },
  {
   "cell_type": "code",
   "execution_count": null,
   "metadata": {},
   "outputs": [],
   "source": [
    "# Create validation data \n",
    "origin = \"../datasets/LID_gf_imagesV3Extended(resized)\"\n",
    "destination = \"../datasets/LID_gf_imagesV3Extended(processed)/validation_data\"\n",
    "\n",
    "preprocess.datasetSpliter(origin, destination)"
   ]
  },
  {
   "cell_type": "code",
   "execution_count": null,
   "metadata": {},
   "outputs": [],
   "source": [
    "# Create test data\n",
    "origin = \"../datasets/LID_gf_imagesV3Extended(resized)\"\n",
    "destination = \"../datasets/LID_gf_imagesV3Extended(processed)/test_data\"\n",
    "\n",
    "preprocess.datasetSpliter(origin, destination)"
   ]
  },
  {
   "cell_type": "code",
   "execution_count": null,
   "metadata": {},
   "outputs": [],
   "source": [
    "# Create train data. Move the remaining files\n",
    "origin = \"../datasets/LID_gf_imagesV3Extended(resized)\"\n",
    "destination = \"../datasets/LID_gf_imagesV3Extended(processed)/train_data\"\n",
    "\n",
    "for folder in os.listdir(origin):\n",
    "    src_folder = os.path.join(origin, folder)\n",
    "    dst_folder = os.path.join(destination, folder)\n",
    "\n",
    "    # Move file from source to destination\n",
    "    shutil.move(src_folder, dst_folder)"
   ]
  },
  {
   "cell_type": "code",
   "execution_count": null,
   "metadata": {},
   "outputs": [],
   "source": [
    "path_src = \"../datasets/LID_gf_imagesV3Extended(Original)\"\n",
    "path_dest = \"../datasets/LID_gf_imagesV3Extended(processed)\"\n",
    "\n",
    "dataset_folder = os.listdir(path_src)\n",
    "dataset_folder"
   ]
  },
  {
   "cell_type": "markdown",
   "metadata": {},
   "source": [
    "## 1.3. Process train data"
   ]
  },
  {
   "cell_type": "code",
   "execution_count": 5,
   "metadata": {},
   "outputs": [],
   "source": [
    "# Process train_data\n",
    "\n",
    "main_folder = \"../datasets/LID_gf_imagesV3Extended(processed)/train_data\"\n",
    "\n",
    "img_classes = {\n",
    "    \"line\": 0,\n",
    "    \"quad\": 1,\n",
    "    \"cub\": 2,\n",
    "    \"expo\": 3,\n",
    "    \"log\": 4,\n",
    "    \"root\": 5,\n",
    "    \"sin\": 6,\n",
    "    \"cos\": 7,\n",
    "    \"tan\": 8,\n",
    "    \"cot\": 9\n",
    "}\n",
    "\n",
    "x, y = preprocess.oneHotEncoding(main_folder, img_classes)"
   ]
  },
  {
   "cell_type": "code",
   "execution_count": 6,
   "metadata": {},
   "outputs": [],
   "source": [
    "x_train_data, y_train_data = preprocess.shuffleData(x, y)"
   ]
  },
  {
   "cell_type": "markdown",
   "metadata": {},
   "source": [
    "## 1.4. Process validation data"
   ]
  },
  {
   "cell_type": "code",
   "execution_count": 7,
   "metadata": {},
   "outputs": [],
   "source": [
    "# Process validation_data\n",
    "\n",
    "main_folder = \"../datasets/LID_gf_imagesV3Extended(processed)/validation_data\"\n",
    "img_classes = {\n",
    "    \"line\": 0,\n",
    "    \"quad\": 1,\n",
    "    \"cub\": 2,\n",
    "    \"expo\": 3,\n",
    "    \"log\": 4,\n",
    "    \"root\": 5,\n",
    "    \"sin\": 6,\n",
    "    \"cos\": 7,\n",
    "    \"tan\": 8,\n",
    "    \"cot\": 9\n",
    "}\n",
    "\n",
    "x, y = preprocess.oneHotEncoding(main_folder, img_classes)"
   ]
  },
  {
   "cell_type": "code",
   "execution_count": 8,
   "metadata": {},
   "outputs": [],
   "source": [
    "x_validation_data, y_validation_data = preprocess.shuffleData(x, y)"
   ]
  },
  {
   "cell_type": "markdown",
   "metadata": {},
   "source": [
    "## 1.5. Process test data"
   ]
  },
  {
   "cell_type": "code",
   "execution_count": 9,
   "metadata": {},
   "outputs": [],
   "source": [
    "# Process test_data\n",
    "\n",
    "main_folder = \"../datasets/LID_gf_imagesV3Extended(processed)/test_data\"\n",
    "img_classes = {\n",
    "    \"line\": 0,\n",
    "    \"quad\": 1,\n",
    "    \"cub\": 2,\n",
    "    \"expo\": 3,\n",
    "    \"log\": 4,\n",
    "    \"root\": 5,\n",
    "    \"sin\": 6,\n",
    "    \"cos\": 7,\n",
    "    \"tan\": 8,\n",
    "    \"cot\": 9\n",
    "}\n",
    "\n",
    "x, y = preprocess.oneHotEncoding(main_folder, img_classes)"
   ]
  },
  {
   "cell_type": "code",
   "execution_count": 10,
   "metadata": {},
   "outputs": [],
   "source": [
    "x_test_data, y_test_data = preprocess.shuffleData(x, y)"
   ]
  },
  {
   "cell_type": "markdown",
   "metadata": {},
   "source": [
    "## 1.6. Save to pickle format "
   ]
  },
  {
   "cell_type": "code",
   "execution_count": null,
   "metadata": {},
   "outputs": [],
   "source": [
    "dataset = (\n",
    "    (x_train_data, y_train_data),\n",
    "    (x_validation_data, y_validation_data),\n",
    "    (x_test_data, y_test_data)\n",
    ")\n",
    "\n",
    "preprocess.save_sets(\n",
    "    dataset=dataset,\n",
    "    preprocess_file=\"../datasets/LID_fg_dataset.pkl\"\n",
    ")"
   ]
  }
 ],
 "metadata": {
  "kernelspec": {
   "display_name": "Python 3",
   "language": "python",
   "name": "python3"
  },
  "language_info": {
   "codemirror_mode": {
    "name": "ipython",
    "version": 3
   },
   "file_extension": ".py",
   "mimetype": "text/x-python",
   "name": "python",
   "nbconvert_exporter": "python",
   "pygments_lexer": "ipython3",
   "version": "3.9.19"
  }
 },
 "nbformat": 4,
 "nbformat_minor": 2
}
