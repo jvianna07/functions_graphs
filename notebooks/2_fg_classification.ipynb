{
 "cells": [
  {
   "cell_type": "markdown",
   "metadata": {},
   "source": [
    "# 2. Functions Graphs Classification"
   ]
  },
  {
   "cell_type": "code",
   "execution_count": null,
   "metadata": {},
   "outputs": [],
   "source": [
    "from util import setrootdir\n",
    "\n",
    "setrootdir(\"functions_graphs\")"
   ]
  },
  {
   "cell_type": "code",
   "execution_count": null,
   "metadata": {},
   "outputs": [],
   "source": [
    "from fgraphs import classification"
   ]
  },
  {
   "cell_type": "markdown",
   "metadata": {},
   "source": [
    "## 2.1. Dataset loading"
   ]
  },
  {
   "cell_type": "code",
   "execution_count": null,
   "metadata": {},
   "outputs": [],
   "source": [
    "sets = classification.load_preprocess(preprocess_file=\"../datasets/LID_fg_dataset.pkl\")"
   ]
  },
  {
   "cell_type": "code",
   "execution_count": null,
   "metadata": {},
   "outputs": [],
   "source": [
    "labels = {\n",
    "    0: 'linear',\n",
    "    1: 'quadrática',\n",
    "    2: 'cúbica',\n",
    "    3: 'exponencial',\n",
    "    4: 'logarítmica',\n",
    "    5: 'raíz quadrada',\n",
    "    6: 'seno',\n",
    "    7: 'cosseno',\n",
    "    8: 'tangente',\n",
    "    9: 'cotangente'\n",
    "}"
   ]
  },
  {
   "cell_type": "code",
   "execution_count": null,
   "metadata": {},
   "outputs": [],
   "source": [
    "classification.show_image(\n",
    "    x=sets[\"x\"][\"train\"],\n",
    "    y=sets[\"y\"][\"train\"],\n",
    "    labels=labels,\n",
    "    n=None\n",
    ")"
   ]
  },
  {
   "cell_type": "markdown",
   "metadata": {},
   "source": [
    "# 2.2. Model building"
   ]
  },
  {
   "cell_type": "code",
   "execution_count": null,
   "metadata": {},
   "outputs": [],
   "source": [
    "input_shape = sets[\"x\"][\"train\"][0].shape\n",
    "input_shape"
   ]
  },
  {
   "cell_type": "code",
   "execution_count": null,
   "metadata": {},
   "outputs": [],
   "source": [
    "output_shape = len(labels)\n",
    "output_shape"
   ]
  },
  {
   "cell_type": "code",
   "execution_count": null,
   "metadata": {},
   "outputs": [],
   "source": [
    "model = classification.build_cnn(\n",
    "    input_shape=input_shape,\n",
    "    conv1_filters=32,\n",
    "    conv1_kernel_dim=3,\n",
    "    activation_conv1=\"relu\",\n",
    "    mp1_dim=2,\n",
    "    conv2_filters=64,\n",
    "    conv2_kernel_dim=3,\n",
    "    activation_conv2=\"relu\",\n",
    "    mp2_dim=2,\n",
    "    conv3_filters=64,\n",
    "    conv3_kernel_dim=3,\n",
    "    activation_conv3=\"relu\",\n",
    "    dense1_units=128,\n",
    "    activation_dense1=\"relu\",\n",
    "    dense2_units=output_shape,\n",
    "    activation_dense2=\"softmax\",\n",
    "    lr=1e-3\n",
    ")\n",
    "\n",
    "model.summary()"
   ]
  },
  {
   "cell_type": "markdown",
   "metadata": {},
   "source": [
    "## 2.3. Model fitting"
   ]
  },
  {
   "cell_type": "code",
   "execution_count": null,
   "metadata": {},
   "outputs": [],
   "source": [
    "history = classification.fit(\n",
    "    model=model,\n",
    "    x_train=sets[\"x\"][\"train\"],\n",
    "    y_train=sets[\"y\"][\"train\"],\n",
    "    x_validation=sets[\"x\"][\"validation\"],\n",
    "    y_validation=sets[\"y\"][\"validation\"],\n",
    "    epochs=40,\n",
    "    es_patience=2\n",
    ")"
   ]
  },
  {
   "cell_type": "markdown",
   "metadata": {},
   "source": [
    "## 2.4. Model evaluation"
   ]
  },
  {
   "cell_type": "code",
   "execution_count": null,
   "metadata": {},
   "outputs": [],
   "source": [
    "test_loss, test_acc = model.evaluate(\n",
    "    x=sets[\"x\"][\"test\"],\n",
    "    y=sets[\"y\"][\"test\"]\n",
    ")\n",
    "\n",
    "print(\"Test accuracy:\", test_acc)"
   ]
  },
  {
   "cell_type": "code",
   "execution_count": null,
   "metadata": {},
   "outputs": [],
   "source": [
    "classification.plot_history(history)"
   ]
  },
  {
   "cell_type": "markdown",
   "metadata": {},
   "source": [
    "## 2.5. Save Model"
   ]
  },
  {
   "cell_type": "code",
   "execution_count": null,
   "metadata": {},
   "outputs": [],
   "source": [
    "classification.save(\n",
    "    model=model,\n",
    "    history=history,\n",
    "    model_path=\"../models/cnn_model.keras\",\n",
    "    history_path=\"../models/cnn_history.json\"\n",
    ")"
   ]
  },
  {
   "cell_type": "markdown",
   "metadata": {},
   "source": [
    "## Find best hyperparameters"
   ]
  },
  {
   "cell_type": "code",
   "execution_count": null,
   "metadata": {},
   "outputs": [],
   "source": [
    "tuner = classification.find_best_cnn_model(\n",
    "    sets['x']['train'], sets['y']['train'],\n",
    "    sets['x']['validation'], sets['y']['validation']\n",
    "    )"
   ]
  },
  {
   "cell_type": "code",
   "execution_count": null,
   "metadata": {},
   "outputs": [],
   "source": [
    "# Show Best hyperparameters for function graphs problem\n",
    "best_hps_4_fgraphs = tuner.get_best_hyperparameters(num_trials=1)[0]\n",
    "print(f\"\"\"\n",
    "Best hyperparameters are:\n",
    "- Nr of convolutional layers: {best_hps_4_fgraphs.get('conv_layers')}\n",
    "- Filters in convolutional layers: {[best_hps_4_fgraphs.get('filters_' + str(i)) for i in range(best_hps_4_fgraphs.get('conv_layers'))]}\n",
    "- Nr of neurons in dense layer: {best_hps_4_fgraphs.get('dense_units')}\n",
    "- Activation function in dense layer: {best_hps_4_fgraphs.get('dense_activation')}\n",
    "\"\"\")"
   ]
  }
 ],
 "metadata": {
  "kernelspec": {
   "display_name": "base",
   "language": "python",
   "name": "python3"
  },
  "language_info": {
   "codemirror_mode": {
    "name": "ipython",
    "version": 3
   },
   "file_extension": ".py",
   "mimetype": "text/x-python",
   "name": "python",
   "nbconvert_exporter": "python",
   "pygments_lexer": "ipython3",
   "version": "3.9.6"
  }
 },
 "nbformat": 4,
 "nbformat_minor": 2
}
